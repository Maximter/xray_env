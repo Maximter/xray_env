{
 "cells": [
  {
   "cell_type": "code",
   "execution_count": 1,
   "metadata": {},
   "outputs": [
    {
     "name": "stdout",
     "output_type": "stream",
     "text": [
      "Note: you may need to restart the kernel to use updated packages.\n",
      "Note: you may need to restart the kernel to use updated packages.\n",
      "Note: you may need to restart the kernel to use updated packages.\n",
      "Note: you may need to restart the kernel to use updated packages.\n"
     ]
    }
   ],
   "source": [
    "%pip install pandas -q\n",
    "%pip install matplotlib -q\n",
    "%pip install kagglehub -q\n",
    "%pip install tensorflow -q"
   ]
  },
  {
   "cell_type": "code",
   "execution_count": 2,
   "metadata": {
    "execution": {
     "iopub.execute_input": "2025-05-28T20:50:32.167650Z",
     "iopub.status.busy": "2025-05-28T20:50:32.167362Z",
     "iopub.status.idle": "2025-05-28T20:50:52.270652Z",
     "shell.execute_reply": "2025-05-28T20:50:52.269448Z",
     "shell.execute_reply.started": "2025-05-28T20:50:32.167627Z"
    },
    "trusted": true
   },
   "outputs": [
    {
     "name": "stderr",
     "output_type": "stream",
     "text": [
      "2025-06-29 21:05:17.885827: I tensorflow/core/util/port.cc:153] oneDNN custom operations are on. You may see slightly different numerical results due to floating-point round-off errors from different computation orders. To turn them off, set the environment variable `TF_ENABLE_ONEDNN_OPTS=0`.\n",
      "2025-06-29 21:05:18.217812: E external/local_xla/xla/stream_executor/cuda/cuda_fft.cc:467] Unable to register cuFFT factory: Attempting to register factory for plugin cuFFT when one has already been registered\n",
      "WARNING: All log messages before absl::InitializeLog() is called are written to STDERR\n",
      "E0000 00:00:1751220318.340552     817 cuda_dnn.cc:8579] Unable to register cuDNN factory: Attempting to register factory for plugin cuDNN when one has already been registered\n",
      "E0000 00:00:1751220318.375251     817 cuda_blas.cc:1407] Unable to register cuBLAS factory: Attempting to register factory for plugin cuBLAS when one has already been registered\n",
      "W0000 00:00:1751220318.657388     817 computation_placer.cc:177] computation placer already registered. Please check linkage and avoid linking the same target more than once.\n",
      "W0000 00:00:1751220318.657413     817 computation_placer.cc:177] computation placer already registered. Please check linkage and avoid linking the same target more than once.\n",
      "W0000 00:00:1751220318.657414     817 computation_placer.cc:177] computation placer already registered. Please check linkage and avoid linking the same target more than once.\n",
      "W0000 00:00:1751220318.657416     817 computation_placer.cc:177] computation placer already registered. Please check linkage and avoid linking the same target more than once.\n",
      "2025-06-29 21:05:18.685688: I tensorflow/core/platform/cpu_feature_guard.cc:210] This TensorFlow binary is optimized to use available CPU instructions in performance-critical operations.\n",
      "To enable the following instructions: AVX2 AVX512F AVX512_VNNI AVX512_BF16 FMA, in other operations, rebuild TensorFlow with the appropriate compiler flags.\n",
      "/home/koziy/projects/xray_env/lib/python3.12/site-packages/tqdm/auto.py:21: TqdmWarning: IProgress not found. Please update jupyter and ipywidgets. See https://ipywidgets.readthedocs.io/en/stable/user_install.html\n",
      "  from .autonotebook import tqdm as notebook_tqdm\n"
     ]
    }
   ],
   "source": [
    "import os\n",
    "import numpy as np\n",
    "import tensorflow as tf\n",
    "import pandas as pd\n",
    "import matplotlib.pyplot as plt\n",
    "import kagglehub\n",
    "from tensorflow.keras.layers import Conv2D, Flatten, Dense, AvgPool2D, GlobalAveragePooling2D, Dropout \n",
    "from tensorflow.keras.models import Sequential\n",
    "from tensorflow.keras.preprocessing.image import ImageDataGenerator\n",
    "from tensorflow.keras.optimizers import Adam\n",
    "from tensorflow.keras.applications.resnet import ResNet50\n",
    "from tensorflow.keras.callbacks import ReduceLROnPlateau\n",
    "from keras.applications.resnet50 import preprocess_input\n",
    "from tensorflow.keras.utils import image_dataset_from_directory\n",
    "\n",
    "RANDOM_SEED = 42\n",
    "IMG_HEIGHT = 224\n",
    "IMG_WIDTH = 224\n",
    "BATCH_SIZE = 32"
   ]
  },
  {
   "cell_type": "code",
   "execution_count": 3,
   "metadata": {},
   "outputs": [],
   "source": [
    "# загрузим данные\n",
    "path = kagglehub.dataset_download(\"paultimothymooney/chest-xray-pneumonia\")\n"
   ]
  },
  {
   "cell_type": "code",
   "execution_count": 4,
   "metadata": {
    "trusted": true
   },
   "outputs": [],
   "source": [
    "# преднастройка формаирование датасета\n",
    "settings_loading_data = dict(\n",
    "    labels='inferred',\n",
    "    label_mode='binary',\n",
    "    color_mode='rgb', # если использовать предобученную ч/б модель, то изменить этот параметр на 'grayscale'\n",
    "    image_size=(IMG_HEIGHT, IMG_WIDTH),\n",
    "    interpolation='nearest', # Попробовать: bicubic (лучшая, но тяжёлая) lanczos3/5 (вроде норм)\n",
    "    batch_size=BATCH_SIZE,\n",
    "    seed=RANDOM_SEED\n",
    ")"
   ]
  },
  {
   "cell_type": "code",
   "execution_count": 5,
   "metadata": {},
   "outputs": [
    {
     "name": "stdout",
     "output_type": "stream",
     "text": [
      "Found 5216 files belonging to 2 classes.\n"
     ]
    },
    {
     "name": "stderr",
     "output_type": "stream",
     "text": [
      "I0000 00:00:1751220322.794203     817 gpu_device.cc:2019] Created device /job:localhost/replica:0/task:0/device:GPU:0 with 5529 MB memory:  -> device: 0, name: NVIDIA GeForce RTX 4060 Ti, pci bus id: 0000:01:00.0, compute capability: 8.9\n"
     ]
    },
    {
     "name": "stdout",
     "output_type": "stream",
     "text": [
      "Found 624 files belonging to 2 classes.\n",
      "Found 16 files belonging to 2 classes.\n"
     ]
    }
   ],
   "source": [
    "# сформируем датасеты\n",
    "df_train = image_dataset_from_directory(\n",
    "    path + '/chest_xray/train',\n",
    "    shuffle=True,\n",
    "    **settings_loading_data\n",
    ")\n",
    "\n",
    "df_test = image_dataset_from_directory(\n",
    "    path + '/chest_xray/test',\n",
    "    shuffle=False,\n",
    "    **settings_loading_data\n",
    ")\n",
    "\n",
    "df_valid = image_dataset_from_directory(\n",
    "    path + '/chest_xray/val',\n",
    "    shuffle=False,\n",
    "    **settings_loading_data\n",
    ")"
   ]
  },
  {
   "cell_type": "code",
   "execution_count": 6,
   "metadata": {},
   "outputs": [
    {
     "name": "stdout",
     "output_type": "stream",
     "text": [
      "Классы: ['NORMAL', 'PNEUMONIA']\n"
     ]
    }
   ],
   "source": [
    "# вывод 9 фотографий из датасета для примера\n",
    "class_names = df_train.class_names\n",
    "print(\"Классы:\", class_names)\n",
    "\n",
    "# for images, labels in df_train.take(1):\n",
    "#     plt.figure(figsize=(10, 10))\n",
    "#     for i in range(9):\n",
    "#         ax = plt.subplot(3, 3, i + 1)\n",
    "#         plt.imshow(images[i].numpy().astype(\"uint8\").squeeze(), cmap='gray') \n",
    "#         plt.title(f\"Class: {class_names[int(labels[i].numpy().item())]}\")\n",
    "#         plt.axis(\"off\")\n",
    "#     plt.show()"
   ]
  },
  {
   "cell_type": "code",
   "execution_count": 7,
   "metadata": {},
   "outputs": [
    {
     "name": "stdout",
     "output_type": "stream",
     "text": [
      "Класс NORMAL (0): 1341 изображений\n",
      "Класс PNEUMONIA (1): 3875 изображений\n"
     ]
    },
    {
     "name": "stderr",
     "output_type": "stream",
     "text": [
      "2025-06-29 21:05:26.818883: I tensorflow/core/framework/local_rendezvous.cc:407] Local rendezvous is aborting with status: OUT_OF_RANGE: End of sequence\n"
     ]
    }
   ],
   "source": [
    "# проверим баланс классов\n",
    "# TODO - сделать попроще это ячейку\n",
    "labels = []\n",
    "for _, label_batch in df_train:\n",
    "    labels.extend(label_batch.numpy())\n",
    "\n",
    "normal_count = np.sum(np.array(labels) == 0)\n",
    "pneumonia_count = np.sum(np.array(labels) == 1)\n",
    "\n",
    "print(f\"Класс NORMAL (0): {normal_count} изображений\")\n",
    "print(f\"Класс PNEUMONIA (1): {pneumonia_count} изображений\")"
   ]
  },
  {
   "cell_type": "code",
   "execution_count": 8,
   "metadata": {},
   "outputs": [],
   "source": [
    "# настроим аугментацию\n",
    "# 1. будем поворачивать фотографии, на 10 градусов в разные стороны\n",
    "# 2. смещаем фотографии по вертикали и горизонатли на 10 процентов\n",
    "# 3. зумим фотографии на 20 процентов\n",
    "data_augmentation_pipeline = tf.keras.Sequential([\n",
    "    tf.keras.layers.RandomRotation(factor=10/360.0, fill_mode=\"nearest\", interpolation=\"bilinear\"),\n",
    "    tf.keras.layers.RandomTranslation(height_factor=0.1, width_factor=0.1, fill_mode=\"nearest\", interpolation=\"bilinear\"),\n",
    "    tf.keras.layers.RandomZoom(height_factor=0.2, width_factor=0.2, fill_mode=\"nearest\", interpolation=\"bilinear\")\n",
    "])"
   ]
  },
  {
   "cell_type": "code",
   "execution_count": 9,
   "metadata": {},
   "outputs": [],
   "source": [
    "#применим аугментацию\n",
    "def augment_and_preprocess_train(image, label):\n",
    "    image_augmented = data_augmentation_pipeline(image, training=True)\n",
    "\n",
    "    image_float_0_1 = tf.image.convert_image_dtype(image_augmented, tf.float32)\n",
    "    brightness_factor = tf.random.uniform(shape=[], minval=0.8, maxval=1.2)\n",
    "    image_brightened = image_float_0_1 * brightness_factor\n",
    "    image_brightened = tf.clip_by_value(image_brightened, 0.0, 1.0)\n",
    "\n",
    "    image_for_resnet_preprocess = image_brightened * 255.0\n",
    "    image_preprocessed = preprocess_input(image_for_resnet_preprocess) \n",
    "\n",
    "    return image_preprocessed, label\n",
    "\n",
    "def preprocess_val_test(image, label):\n",
    "    image = tf.cast(image, tf.float32) # Просто переводим в float32\n",
    "    image_preprocessed = preprocess_input(image) # И применяем ту же предобработку ResNet\n",
    "    return image_preprocessed, label\n",
    "\n",
    "\n",
    "df_train_processed = df_train.map(augment_and_preprocess_train, num_parallel_calls=tf.data.AUTOTUNE).prefetch(tf.data.AUTOTUNE)\n",
    "df_test_processed = df_test.map(preprocess_val_test, num_parallel_calls=tf.data.AUTOTUNE).prefetch(tf.data.AUTOTUNE)\n",
    "df_valid_processed = df_valid.map(preprocess_val_test, num_parallel_calls=tf.data.AUTOTUNE).prefetch(tf.data.AUTOTUNE)"
   ]
  },
  {
   "cell_type": "code",
   "execution_count": 10,
   "metadata": {},
   "outputs": [
    {
     "data": {
      "text/html": [
       "<pre style=\"white-space:pre;overflow-x:auto;line-height:normal;font-family:Menlo,'DejaVu Sans Mono',consolas,'Courier New',monospace\"><span style=\"font-weight: bold\">Model: \"sequential_1\"</span>\n",
       "</pre>\n"
      ],
      "text/plain": [
       "\u001b[1mModel: \"sequential_1\"\u001b[0m\n"
      ]
     },
     "metadata": {},
     "output_type": "display_data"
    },
    {
     "data": {
      "text/html": [
       "<pre style=\"white-space:pre;overflow-x:auto;line-height:normal;font-family:Menlo,'DejaVu Sans Mono',consolas,'Courier New',monospace\">┏━━━━━━━━━━━━━━━━━━━━━━━━━━━━━━━━━┳━━━━━━━━━━━━━━━━━━━━━━━━┳━━━━━━━━━━━━━━━┓\n",
       "┃<span style=\"font-weight: bold\"> Layer (type)                    </span>┃<span style=\"font-weight: bold\"> Output Shape           </span>┃<span style=\"font-weight: bold\">       Param # </span>┃\n",
       "┡━━━━━━━━━━━━━━━━━━━━━━━━━━━━━━━━━╇━━━━━━━━━━━━━━━━━━━━━━━━╇━━━━━━━━━━━━━━━┩\n",
       "│ resnet50 (<span style=\"color: #0087ff; text-decoration-color: #0087ff\">Functional</span>)           │ (<span style=\"color: #00d7ff; text-decoration-color: #00d7ff\">None</span>, <span style=\"color: #00af00; text-decoration-color: #00af00\">7</span>, <span style=\"color: #00af00; text-decoration-color: #00af00\">7</span>, <span style=\"color: #00af00; text-decoration-color: #00af00\">2048</span>)     │    <span style=\"color: #00af00; text-decoration-color: #00af00\">23,587,712</span> │\n",
       "├─────────────────────────────────┼────────────────────────┼───────────────┤\n",
       "│ global_average_pooling2d        │ (<span style=\"color: #00d7ff; text-decoration-color: #00d7ff\">None</span>, <span style=\"color: #00af00; text-decoration-color: #00af00\">2048</span>)           │             <span style=\"color: #00af00; text-decoration-color: #00af00\">0</span> │\n",
       "│ (<span style=\"color: #0087ff; text-decoration-color: #0087ff\">GlobalAveragePooling2D</span>)        │                        │               │\n",
       "├─────────────────────────────────┼────────────────────────┼───────────────┤\n",
       "│ dense (<span style=\"color: #0087ff; text-decoration-color: #0087ff\">Dense</span>)                   │ (<span style=\"color: #00d7ff; text-decoration-color: #00d7ff\">None</span>, <span style=\"color: #00af00; text-decoration-color: #00af00\">1</span>)              │         <span style=\"color: #00af00; text-decoration-color: #00af00\">2,049</span> │\n",
       "└─────────────────────────────────┴────────────────────────┴───────────────┘\n",
       "</pre>\n"
      ],
      "text/plain": [
       "┏━━━━━━━━━━━━━━━━━━━━━━━━━━━━━━━━━┳━━━━━━━━━━━━━━━━━━━━━━━━┳━━━━━━━━━━━━━━━┓\n",
       "┃\u001b[1m \u001b[0m\u001b[1mLayer (type)                   \u001b[0m\u001b[1m \u001b[0m┃\u001b[1m \u001b[0m\u001b[1mOutput Shape          \u001b[0m\u001b[1m \u001b[0m┃\u001b[1m \u001b[0m\u001b[1m      Param #\u001b[0m\u001b[1m \u001b[0m┃\n",
       "┡━━━━━━━━━━━━━━━━━━━━━━━━━━━━━━━━━╇━━━━━━━━━━━━━━━━━━━━━━━━╇━━━━━━━━━━━━━━━┩\n",
       "│ resnet50 (\u001b[38;5;33mFunctional\u001b[0m)           │ (\u001b[38;5;45mNone\u001b[0m, \u001b[38;5;34m7\u001b[0m, \u001b[38;5;34m7\u001b[0m, \u001b[38;5;34m2048\u001b[0m)     │    \u001b[38;5;34m23,587,712\u001b[0m │\n",
       "├─────────────────────────────────┼────────────────────────┼───────────────┤\n",
       "│ global_average_pooling2d        │ (\u001b[38;5;45mNone\u001b[0m, \u001b[38;5;34m2048\u001b[0m)           │             \u001b[38;5;34m0\u001b[0m │\n",
       "│ (\u001b[38;5;33mGlobalAveragePooling2D\u001b[0m)        │                        │               │\n",
       "├─────────────────────────────────┼────────────────────────┼───────────────┤\n",
       "│ dense (\u001b[38;5;33mDense\u001b[0m)                   │ (\u001b[38;5;45mNone\u001b[0m, \u001b[38;5;34m1\u001b[0m)              │         \u001b[38;5;34m2,049\u001b[0m │\n",
       "└─────────────────────────────────┴────────────────────────┴───────────────┘\n"
      ]
     },
     "metadata": {},
     "output_type": "display_data"
    },
    {
     "data": {
      "text/html": [
       "<pre style=\"white-space:pre;overflow-x:auto;line-height:normal;font-family:Menlo,'DejaVu Sans Mono',consolas,'Courier New',monospace\"><span style=\"font-weight: bold\"> Total params: </span><span style=\"color: #00af00; text-decoration-color: #00af00\">23,589,761</span> (89.99 MB)\n",
       "</pre>\n"
      ],
      "text/plain": [
       "\u001b[1m Total params: \u001b[0m\u001b[38;5;34m23,589,761\u001b[0m (89.99 MB)\n"
      ]
     },
     "metadata": {},
     "output_type": "display_data"
    },
    {
     "data": {
      "text/html": [
       "<pre style=\"white-space:pre;overflow-x:auto;line-height:normal;font-family:Menlo,'DejaVu Sans Mono',consolas,'Courier New',monospace\"><span style=\"font-weight: bold\"> Trainable params: </span><span style=\"color: #00af00; text-decoration-color: #00af00\">23,536,641</span> (89.79 MB)\n",
       "</pre>\n"
      ],
      "text/plain": [
       "\u001b[1m Trainable params: \u001b[0m\u001b[38;5;34m23,536,641\u001b[0m (89.79 MB)\n"
      ]
     },
     "metadata": {},
     "output_type": "display_data"
    },
    {
     "data": {
      "text/html": [
       "<pre style=\"white-space:pre;overflow-x:auto;line-height:normal;font-family:Menlo,'DejaVu Sans Mono',consolas,'Courier New',monospace\"><span style=\"font-weight: bold\"> Non-trainable params: </span><span style=\"color: #00af00; text-decoration-color: #00af00\">53,120</span> (207.50 KB)\n",
       "</pre>\n"
      ],
      "text/plain": [
       "\u001b[1m Non-trainable params: \u001b[0m\u001b[38;5;34m53,120\u001b[0m (207.50 KB)\n"
      ]
     },
     "metadata": {},
     "output_type": "display_data"
    }
   ],
   "source": [
    "# создадим модель\n",
    "tf.keras.backend.set_image_data_format('channels_last')\n",
    "backbone = ResNet50(input_shape=(IMG_HEIGHT, IMG_WIDTH, 3), include_top=False)\n",
    "model = Sequential()\n",
    "model.add(backbone)\n",
    "model.add(GlobalAveragePooling2D())\n",
    "model.add(Dense(units=1, activation='sigmoid'))\n",
    "\n",
    "optimizer = Adam(learning_rate=2e-4) \n",
    "model.compile(loss='binary_crossentropy', optimizer=optimizer, metrics=[\n",
    "        'accuracy',       \n",
    "        tf.keras.metrics.Precision(name='precision'),\n",
    "        tf.keras.metrics.Recall(name='recall'),\n",
    "        tf.keras.metrics.AUC(name='auc')\n",
    "    ])\n",
    "model.summary()"
   ]
  },
  {
   "cell_type": "code",
   "execution_count": 11,
   "metadata": {},
   "outputs": [],
   "source": [
    "# %pip uninstall tensorflow # если установлен обычный\n",
    "# %pip install tensorflow==2.10.0\n",
    "# %pip install tensorflow-directml-plugin"
   ]
  },
  {
   "cell_type": "code",
   "execution_count": 12,
   "metadata": {},
   "outputs": [
    {
     "name": "stdout",
     "output_type": "stream",
     "text": [
      "Версия TensorFlow: 2.19.0\n",
      "Physical devices cannot be modified after being initialized\n"
     ]
    }
   ],
   "source": [
    "import tensorflow as tf\n",
    "\n",
    "print(\"Версия TensorFlow:\", tf.__version__)\n",
    "gpus = tf.config.list_physical_devices('GPU')\n",
    "if gpus:\n",
    "    try:\n",
    "        # Ограничиваем рост памяти GPU по мере необходимости\n",
    "        # Это нужно делать в самом начале, до инициализации GPU\n",
    "        for gpu in gpus:\n",
    "            tf.config.experimental.set_memory_growth(gpu, True)\n",
    "        logical_gpus = tf.config.list_logical_devices('GPU')\n",
    "        print(len(gpus), \"Физических GPU,\", len(logical_gpus), \"Логических GPU доступно\")\n",
    "        print(\"GPU доступен:\", tf.test.is_gpu_available(cuda_only=True)) # Для TF < 2.5\n",
    "        print(\"GPU доступен (новый метод):\", len(tf.config.list_physical_devices('GPU')) > 0)\n",
    "    except RuntimeError as e:\n",
    "        # Рост памяти должен быть установлен до инициализации GPU\n",
    "        print(e)\n",
    "else:\n",
    "    print(\"GPU не найдены.\")"
   ]
  },
  {
   "cell_type": "code",
   "execution_count": 13,
   "metadata": {},
   "outputs": [
    {
     "name": "stdout",
     "output_type": "stream",
     "text": [
      "Epoch 1/10\n"
     ]
    },
    {
     "name": "stderr",
     "output_type": "stream",
     "text": [
      "WARNING: All log messages before absl::InitializeLog() is called are written to STDERR\n",
      "I0000 00:00:1751220345.653455    2329 service.cc:152] XLA service 0x7efdc0002480 initialized for platform CUDA (this does not guarantee that XLA will be used). Devices:\n",
      "I0000 00:00:1751220345.653480    2329 service.cc:160]   StreamExecutor device (0): NVIDIA GeForce RTX 4060 Ti, Compute Capability 8.9\n",
      "2025-06-29 21:05:46.798501: I tensorflow/compiler/mlir/tensorflow/utils/dump_mlir_util.cc:269] disabling MLIR crash reproducer, set env var `MLIR_CRASH_REPRODUCER_DIRECTORY` to enable.\n",
      "I0000 00:00:1751220350.484059    2329 cuda_dnn.cc:529] Loaded cuDNN version 90300\n",
      "I0000 00:00:1751220369.077528    2329 device_compiler.h:188] Compiled cluster using XLA!  This line is logged at most once for the lifetime of the process.\n"
     ]
    },
    {
     "name": "stdout",
     "output_type": "stream",
     "text": [
      "\u001b[1m163/163\u001b[0m \u001b[32m━━━━━━━━━━━━━━━━━━━━\u001b[0m\u001b[37m\u001b[0m \u001b[1m0s\u001b[0m 173ms/step - accuracy: 0.8090 - auc: 0.8335 - loss: 0.4511 - precision: 0.8534 - recall: 0.8930"
     ]
    },
    {
     "name": "stderr",
     "output_type": "stream",
     "text": [
      "WARNING:absl:You are saving your model as an HDF5 file via `model.save()` or `keras.saving.save_model(model)`. This file format is considered legacy. We recommend using instead the native Keras format, e.g. `model.save('my_model.keras')` or `keras.saving.save_model(model, 'my_model.keras')`. \n"
     ]
    },
    {
     "name": "stdout",
     "output_type": "stream",
     "text": [
      "\u001b[1m163/163\u001b[0m \u001b[32m━━━━━━━━━━━━━━━━━━━━\u001b[0m\u001b[37m\u001b[0m \u001b[1m75s\u001b[0m 206ms/step - accuracy: 0.8091 - auc: 0.8337 - loss: 0.4508 - precision: 0.8535 - recall: 0.8931 - val_accuracy: 0.5000 - val_auc: 0.4609 - val_loss: 1.5197 - val_precision: 0.5000 - val_recall: 1.0000 - learning_rate: 2.0000e-04\n",
      "Epoch 2/10\n",
      "\u001b[1m163/163\u001b[0m \u001b[32m━━━━━━━━━━━━━━━━━━━━\u001b[0m\u001b[37m\u001b[0m \u001b[1m0s\u001b[0m 178ms/step - accuracy: 0.8424 - auc: 0.8849 - loss: 0.3737 - precision: 0.8790 - recall: 0.9102"
     ]
    },
    {
     "name": "stderr",
     "output_type": "stream",
     "text": [
      "WARNING:absl:You are saving your model as an HDF5 file via `model.save()` or `keras.saving.save_model(model)`. This file format is considered legacy. We recommend using instead the native Keras format, e.g. `model.save('my_model.keras')` or `keras.saving.save_model(model, 'my_model.keras')`. \n"
     ]
    },
    {
     "name": "stdout",
     "output_type": "stream",
     "text": [
      "\u001b[1m163/163\u001b[0m \u001b[32m━━━━━━━━━━━━━━━━━━━━\u001b[0m\u001b[37m\u001b[0m \u001b[1m31s\u001b[0m 186ms/step - accuracy: 0.8424 - auc: 0.8849 - loss: 0.3735 - precision: 0.8791 - recall: 0.9102 - val_accuracy: 0.5000 - val_auc: 0.5391 - val_loss: 1.4200 - val_precision: 0.5000 - val_recall: 1.0000 - learning_rate: 2.0000e-04\n",
      "Epoch 3/10\n",
      "\u001b[1m163/163\u001b[0m \u001b[32m━━━━━━━━━━━━━━━━━━━━\u001b[0m\u001b[37m\u001b[0m \u001b[1m0s\u001b[0m 197ms/step - accuracy: 0.8508 - auc: 0.8988 - loss: 0.3420 - precision: 0.8899 - recall: 0.9089"
     ]
    },
    {
     "name": "stderr",
     "output_type": "stream",
     "text": [
      "WARNING:absl:You are saving your model as an HDF5 file via `model.save()` or `keras.saving.save_model(model)`. This file format is considered legacy. We recommend using instead the native Keras format, e.g. `model.save('my_model.keras')` or `keras.saving.save_model(model, 'my_model.keras')`. \n"
     ]
    },
    {
     "name": "stdout",
     "output_type": "stream",
     "text": [
      "\u001b[1m163/163\u001b[0m \u001b[32m━━━━━━━━━━━━━━━━━━━━\u001b[0m\u001b[37m\u001b[0m \u001b[1m34s\u001b[0m 204ms/step - accuracy: 0.8509 - auc: 0.8988 - loss: 0.3420 - precision: 0.8900 - recall: 0.9090 - val_accuracy: 0.5000 - val_auc: 0.3125 - val_loss: 0.8818 - val_precision: 0.5000 - val_recall: 1.0000 - learning_rate: 2.0000e-04\n",
      "Epoch 4/10\n",
      "\u001b[1m163/163\u001b[0m \u001b[32m━━━━━━━━━━━━━━━━━━━━\u001b[0m\u001b[37m\u001b[0m \u001b[1m32s\u001b[0m 191ms/step - accuracy: 0.8587 - auc: 0.9105 - loss: 0.3221 - precision: 0.8939 - recall: 0.9160 - val_accuracy: 0.5000 - val_auc: 0.2969 - val_loss: 1.5540 - val_precision: 0.5000 - val_recall: 1.0000 - learning_rate: 2.0000e-04\n",
      "Epoch 5/10\n",
      "\u001b[1m163/163\u001b[0m \u001b[32m━━━━━━━━━━━━━━━━━━━━\u001b[0m\u001b[37m\u001b[0m \u001b[1m0s\u001b[0m 195ms/step - accuracy: 0.8655 - auc: 0.9107 - loss: 0.3239 - precision: 0.8961 - recall: 0.9239\n",
      "Epoch 5: ReduceLROnPlateau reducing learning rate to 3.9999998989515007e-05.\n",
      "\u001b[1m163/163\u001b[0m \u001b[32m━━━━━━━━━━━━━━━━━━━━\u001b[0m\u001b[37m\u001b[0m \u001b[1m32s\u001b[0m 196ms/step - accuracy: 0.8656 - auc: 0.9107 - loss: 0.3238 - precision: 0.8961 - recall: 0.9239 - val_accuracy: 0.5000 - val_auc: 0.6250 - val_loss: 3.8588 - val_precision: 0.5000 - val_recall: 1.0000 - learning_rate: 2.0000e-04\n",
      "Epoch 6/10\n",
      "\u001b[1m163/163\u001b[0m \u001b[32m━━━━━━━━━━━━━━━━━━━━\u001b[0m\u001b[37m\u001b[0m \u001b[1m32s\u001b[0m 194ms/step - accuracy: 0.8736 - auc: 0.9232 - loss: 0.2961 - precision: 0.9096 - recall: 0.9187 - val_accuracy: 0.5000 - val_auc: 0.4375 - val_loss: 4.4255 - val_precision: 0.5000 - val_recall: 1.0000 - learning_rate: 4.0000e-05\n",
      "Epoch 7/10\n",
      "\u001b[1m163/163\u001b[0m \u001b[32m━━━━━━━━━━━━━━━━━━━━\u001b[0m\u001b[37m\u001b[0m \u001b[1m0s\u001b[0m 197ms/step - accuracy: 0.8782 - auc: 0.9273 - loss: 0.2866 - precision: 0.9113 - recall: 0.9239\n",
      "Epoch 7: ReduceLROnPlateau reducing learning rate to 7.999999797903002e-06.\n",
      "\u001b[1m163/163\u001b[0m \u001b[32m━━━━━━━━━━━━━━━━━━━━\u001b[0m\u001b[37m\u001b[0m \u001b[1m33s\u001b[0m 198ms/step - accuracy: 0.8783 - auc: 0.9274 - loss: 0.2865 - precision: 0.9114 - recall: 0.9240 - val_accuracy: 0.5000 - val_auc: 0.5000 - val_loss: 4.1234 - val_precision: 0.5000 - val_recall: 1.0000 - learning_rate: 4.0000e-05\n",
      "Epoch 8/10\n",
      "\u001b[1m163/163\u001b[0m \u001b[32m━━━━━━━━━━━━━━━━━━━━\u001b[0m\u001b[37m\u001b[0m \u001b[1m31s\u001b[0m 191ms/step - accuracy: 0.8814 - auc: 0.9309 - loss: 0.2822 - precision: 0.9117 - recall: 0.9294 - val_accuracy: 0.5000 - val_auc: 0.5000 - val_loss: 6.2743 - val_precision: 0.5000 - val_recall: 1.0000 - learning_rate: 8.0000e-06\n"
     ]
    },
    {
     "data": {
      "text/plain": [
       "<keras.src.callbacks.history.History at 0x7efe63f432f0>"
      ]
     },
     "execution_count": 13,
     "metadata": {},
     "output_type": "execute_result"
    }
   ],
   "source": [
    "from tensorflow.keras.callbacks import ReduceLROnPlateau, ModelCheckpoint, EarlyStopping\n",
    "\n",
    "# Очень полезные коллбэки\n",
    "reduce_lr = ReduceLROnPlateau(monitor='val_loss', factor=0.2, patience=2, min_lr=1e-6, verbose=1)\n",
    "# Сохраняет лучшую версию модели\n",
    "model_checkpoint = ModelCheckpoint('best_model.h5', monitor='val_loss', save_best_only=True)\n",
    "# Останавливает обучение, если нет улучшений, чтобы не тратить время и не переобучаться\n",
    "early_stopping = EarlyStopping(monitor='val_loss', patience=5, restore_best_weights=True)\n",
    "\n",
    "# Не забудьте использовать обработанные датасеты!\n",
    "model.fit(\n",
    "    df_train_processed,\n",
    "    validation_data=df_valid_processed,\n",
    "    epochs=10, # Можно поставить побольше, EarlyStopping сам остановит\n",
    "    callbacks=[reduce_lr, model_checkpoint, early_stopping]\n",
    ")"
   ]
  }
 ],
 "metadata": {
  "kaggle": {
   "accelerator": "none",
   "dataSources": [
    {
     "datasetId": 17810,
     "sourceId": 23812,
     "sourceType": "datasetVersion"
    }
   ],
   "dockerImageVersionId": 31040,
   "isGpuEnabled": false,
   "isInternetEnabled": false,
   "language": "python",
   "sourceType": "notebook"
  },
  "kernelspec": {
   "display_name": "xray_env",
   "language": "python",
   "name": "python3"
  },
  "language_info": {
   "codemirror_mode": {
    "name": "ipython",
    "version": 3
   },
   "file_extension": ".py",
   "mimetype": "text/x-python",
   "name": "python",
   "nbconvert_exporter": "python",
   "pygments_lexer": "ipython3",
   "version": "3.12.3"
  }
 },
 "nbformat": 4,
 "nbformat_minor": 4
}
